{
  "nbformat": 4,
  "nbformat_minor": 0,
  "metadata": {
    "colab": {
      "provenance": [],
      "authorship_tag": "ABX9TyOF6z2Y+w1smIqtqBt3yCim",
      "include_colab_link": true
    },
    "kernelspec": {
      "name": "python3",
      "display_name": "Python 3"
    },
    "language_info": {
      "name": "python"
    }
  },
  "cells": [
    {
      "cell_type": "markdown",
      "metadata": {
        "id": "view-in-github",
        "colab_type": "text"
      },
      "source": [
        "<a href=\"https://colab.research.google.com/github/alfarobi695/PCVK_Ganjil_2023/blob/main/Week3.ipynb\" target=\"_parent\"><img src=\"https://colab.research.google.com/assets/colab-badge.svg\" alt=\"Open In Colab\"/></a>"
      ]
    },
    {
      "cell_type": "code",
      "execution_count": null,
      "metadata": {
        "colab": {
          "base_uri": "https://localhost:8080/"
        },
        "id": "xLquXi0Dcw0G",
        "outputId": "c217f6cb-940b-49ca-b73e-2d4e03fbc943"
      },
      "outputs": [
        {
          "output_type": "stream",
          "name": "stdout",
          "text": [
            "Priority weights untuk kriteria:\n",
            "[0.51281281+0.j 0.26149906+0.j 0.12897642+0.j 0.06337653+0.j\n",
            " 0.03333518+0.j]\n",
            "\n",
            "Priority weights untuk alternatif:\n",
            "[0.12568913 0.23336557 0.18012662 0.17242535 0.28839333]\n"
          ]
        },
        {
          "output_type": "stream",
          "name": "stderr",
          "text": [
            "<ipython-input-2-0a0d15c188fc>:79: ComplexWarning: Casting complex values to real discards the imaginary part\n",
            "  V[i] = W_A1[i] * W[0] + W_A2[i] * W[1] + W_A3[i] * W[2] + W_A4[i] * W[3] + W_A5[i] * W[4]\n"
          ]
        }
      ],
      "source": [
        "import numpy as np\n",
        "\n",
        "# Step 1: Buat matriks pairwise comparison antar kriteria (C)\n",
        "C = np.array([\n",
        "    [1, 3, 5, 7, 9],\n",
        "    [1/3, 1, 3, 5, 7],\n",
        "    [1/5, 1/3, 1, 3, 5],\n",
        "    [1/7, 1/5, 1/3, 1, 3],\n",
        "    [1/9, 1/7, 1/5, 1/3, 1]\n",
        "])\n",
        "\n",
        "# Step 2: Hitung priority weights (W) untuk kriteria\n",
        "n = len(C)\n",
        "W = np.linalg.eig(C)[1][:, 0]\n",
        "W = W / sum(W)\n",
        "\n",
        "# Step 3: Buat matriks pairwise comparison antar alternatif untuk setiap kriteria (A1, A2, A3, A4, A5)\n",
        "A1 = np.array([\n",
        "    [1, 1/3, 3, 1/2, 1/2],\n",
        "    [3, 1, 5, 3, 1],\n",
        "    [1/3, 1/5, 1, 1/3, 1/3],\n",
        "    [2, 1/3, 3, 1, 1],\n",
        "    [2, 1, 3, 1, 1]\n",
        "])\n",
        "\n",
        "A2 = np.array([\n",
        "    [1, 5, 1/5, 3, 1/2],\n",
        "    [1/5, 1, 1/7, 1/5, 1/7],\n",
        "    [5, 7, 1, 5, 3],\n",
        "    [1/3, 5, 1/5, 1, 1/3],\n",
        "    [2, 7, 1/3, 3, 1]\n",
        "])\n",
        "\n",
        "A3 = np.array([\n",
        "    [1, 1/3, 5, 1/2, 1/3],\n",
        "    [3, 1, 7, 1, 1/3],\n",
        "    [1/5, 1/7, 1, 1/3, 1/5],\n",
        "    [2, 1, 3, 1, 1/3],\n",
        "    [3, 3, 5, 3, 1]\n",
        "])\n",
        "\n",
        "A4 = np.array([\n",
        "    [1, 1/3, 1/5, 1/7, 1/9],\n",
        "    [3, 1, 1/3, 1/5, 1/7],\n",
        "    [5, 3, 1, 1/3, 1/5],\n",
        "    [7, 5, 3, 1, 1/3],\n",
        "    [9, 7, 5, 3, 1]\n",
        "])\n",
        "\n",
        "A5 = np.array([\n",
        "    [1, 3, 1/3, 1/5, 1/7],\n",
        "    [1/3, 1, 1/7, 1/9, 1/11],\n",
        "    [3, 7, 1, 1/3, 1/5],\n",
        "    [5, 9, 3, 1, 1/3],\n",
        "    [7, 11, 5, 3, 1]\n",
        "])\n",
        "\n",
        "# Step 4: Hitung priority weights (W) untuk alternatif pada setiap kriteria\n",
        "W_A1 = np.linalg.eig(A1)[1][:, 0]\n",
        "W_A1 = W_A1 / sum(W_A1)\n",
        "\n",
        "W_A2 = np.linalg.eig(A2)[1][:, 0]\n",
        "W_A2 = W_A2 / sum(W_A2)\n",
        "\n",
        "W_A3 = np.linalg.eig(A3)[1][:, 0]\n",
        "W_A3 = W_A3 / sum(W_A3)\n",
        "\n",
        "W_A4 = np.linalg.eig(A4)[1][:, 0]\n",
        "W_A4 = W_A4 / sum(W_A4)\n",
        "\n",
        "W_A5 = np.linalg.eig(A5)[1][:, 0]\n",
        "W_A5 = W_A5 / sum(W_A5)\n",
        "\n",
        "# Step 5: Hitung nilai final (V) untuk setiap alternatif\n",
        "n_alternatives = len(W_A1)\n",
        "V = np.zeros(n_alternatives)\n",
        "\n",
        "for i in range(n_alternatives):\n",
        "    V[i] = W_A1[i] * W[0] + W_A2[i] * W[1] + W_A3[i] * W[2] + W_A4[i] * W[3] + W_A5[i] * W[4]\n",
        "\n",
        "# Step 6: Hitung priority weights (W) untuk alternatif\n",
        "W_alternatives = V / sum(V)\n",
        "\n",
        "# Step 7: Hasil\n",
        "print(\"Priority weights untuk kriteria:\")\n",
        "print(W)\n",
        "print(\"\\nPriority weights untuk alternatif:\")\n",
        "print(W_alternatives)\n"
      ]
    }
  ]
}